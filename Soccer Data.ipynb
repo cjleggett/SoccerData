{
 "cells": [
  {
   "cell_type": "markdown",
   "metadata": {},
   "source": [
    "# Visualizing Soccer Data"
   ]
  },
  {
   "cell_type": "markdown",
   "metadata": {},
   "source": [
    "#### Citations:"
   ]
  },
  {
   "cell_type": "markdown",
   "metadata": {},
   "source": [
    "@Article{Hunter:2007,\n",
    "  Author    = {Hunter, J. D.},\n",
    "  Title     = {Matplotlib: A 2D graphics environment},\n",
    "  Journal   = {Computing In Science \\& Engineering},\n",
    "  Volume    = {9},\n",
    "  Number    = {3},\n",
    "  Pages     = {90--95},\n",
    "  abstract  = {Matplotlib is a 2D graphics package used for Python\n",
    "  for application development, interactive scripting, and\n",
    "  publication-quality image generation across user\n",
    "  interfaces and operating systems.},\n",
    "  publisher = {IEEE COMPUTER SOC},\n",
    "  doi       = {10.1109/MCSE.2007.55},\n",
    "  year      = 2007\n",
    "}"
   ]
  },
  {
   "cell_type": "markdown",
   "metadata": {},
   "source": [
    "#### Imports"
   ]
  },
  {
   "cell_type": "code",
   "execution_count": 1,
   "metadata": {},
   "outputs": [],
   "source": [
    "import json\n",
    "import math\n",
    "from matplotlib import pyplot as plt\n",
    "import numpy as np\n",
    "from scipy import stats\n",
    "import random\n",
    "from statsmodels.stats.proportion import proportions_ztest"
   ]
  },
  {
   "cell_type": "markdown",
   "metadata": {},
   "source": [
    "#### Defines a soccer game"
   ]
  },
  {
   "cell_type": "code",
   "execution_count": 2,
   "metadata": {},
   "outputs": [],
   "source": [
    "class Game:\n",
    "    def __init__(self, homeTeam, awayTeam, homeScore, awayScore, date):\n",
    "        self.homeTeam = homeTeam\n",
    "        self.awayTeam = awayTeam\n",
    "        self.homeScore = homeScore\n",
    "        self.awayScore = awayScore\n",
    "        self.date = date\n",
    "        \n",
    "        \n",
    "    # Displays a game in the format Liverpool 4-3 Manchester City\n",
    "    def display(self):\n",
    "        print(self.homeTeam + \" \" + str(self.homeScore) + \"-\" +\n",
    "             str(self.awayScore)+\" \"+self.awayTeam) "
   ]
  },
  {
   "cell_type": "markdown",
   "metadata": {},
   "source": [
    "#### Defines one matchday"
   ]
  },
  {
   "cell_type": "code",
   "execution_count": 3,
   "metadata": {},
   "outputs": [],
   "source": [
    "class Matchday:\n",
    "    def __init__(self, number):\n",
    "        self.number = number\n",
    "        self.games = []\n",
    "        \n",
    "        \n",
    "    # Adds a game to the list of games\n",
    "    def addGame(self, game):\n",
    "        self.games.append(game)"
   ]
  },
  {
   "cell_type": "markdown",
   "metadata": {},
   "source": [
    "#### Defines a team's general stats over one season"
   ]
  },
  {
   "cell_type": "code",
   "execution_count": 4,
   "metadata": {},
   "outputs": [],
   "source": [
    "class TeamSeason:\n",
    "    def __init__(self, name):\n",
    "        self.name = name\n",
    "        self.points = 0\n",
    "        self.scored = 0\n",
    "        self.conceded = 0\n",
    "        self.gD = 0\n",
    "        self.place = 0\n",
    "        \n",
    "        \n",
    "    # Adds info from one game to the data on a team's season-long performance\n",
    "    def addGame(self, game):\n",
    "        isHomeTeam = game.homeTeam == self.name\n",
    "        \n",
    "        # Assigning points for a draw\n",
    "        if game.homeScore == game.awayScore:\n",
    "            self.points += 1\n",
    "            \n",
    "        # Updating variables if home team\n",
    "        if isHomeTeam:\n",
    "            if game.homeScore > game.awayScore:\n",
    "                self.points += 3\n",
    "            self.scored += game.homeScore\n",
    "            self.conceded += game.awayScore\n",
    "        \n",
    "        # Updating variables if away team\n",
    "        else:\n",
    "            if game.homeScore < game.awayScore:\n",
    "                self.points += 3\n",
    "            self.scored += game.awayScore\n",
    "            self.conceded += game.homeScore\n",
    "        self.gD = self.scored - self.conceded"
   ]
  },
  {
   "cell_type": "markdown",
   "metadata": {},
   "source": [
    "#### Defines a class for an entire season"
   ]
  },
  {
   "cell_type": "code",
   "execution_count": 5,
   "metadata": {},
   "outputs": [],
   "source": [
    "class Season:\n",
    "    def __init__(self, year):\n",
    "        self.year = year\n",
    "        # A dictionary in the form of name: TeamSeason object\n",
    "        self.teams = {}\n",
    "        self.placed = []\n",
    "        self.matchDays = []\n",
    "        \n",
    "    # adds to a list of individual weeks\n",
    "    def addMatchDays(self, matchDay):\n",
    "        self.matchDays.append(matchDay)\n",
    "        \n",
    "    # adds a team to the dictionary of teams\n",
    "    def addTeam(self, name):\n",
    "        if not name in self.teams:\n",
    "            self.teams[name] = TeamSeason(name)\n",
    "            \n",
    "    # Given two teams, it compares them using official EPL procedures\n",
    "    # Return 1 if teamA is better than team B, -1 if not\n",
    "    def compareTeams(self, teamA, teamB):\n",
    "        if teamA.points > teamB.points:\n",
    "            return 1\n",
    "        elif teamA.points == teamB.points:\n",
    "            if teamA.gD > teamB.gD:\n",
    "                return 1\n",
    "            elif teamB.gD == teamB.gD:\n",
    "                if teamA.scored > teamB.scored:\n",
    "                    return 1\n",
    "                elif teamB.scored == teamB.scored:\n",
    "                    if teamA.name > teamB.name:\n",
    "                        return 1\n",
    "                    else:\n",
    "                        return -1\n",
    "                else:\n",
    "                    return -1\n",
    "            else:\n",
    "                return -1\n",
    "        else:\n",
    "            return -1\n",
    "        \n",
    "    # Orders the teams based on comparisons\n",
    "    def place(self):\n",
    "        for team in self.teams:\n",
    "            for i in range(len(self.teams)):\n",
    "                try:\n",
    "                    if self.compareTeams(self.teams[team], self.placed[i]) > 0:\n",
    "                        self.placed.insert(i, self.teams[team])\n",
    "                        break\n",
    "                except IndexError:\n",
    "                    self.placed.append(self.teams[team])\n",
    "                    break\n",
    "        for i in range(len(self.teams)):\n",
    "            self.placed[i].place = i+1\n",
    "            \n",
    "    # Prints a simple epl table\n",
    "    def table(self):\n",
    "        for i in range(len(self.teams)):\n",
    "            try:\n",
    "                print(str(i+1) + \" \" + self.placed[i].name)\n",
    "            except IndexError:\n",
    "                print(\"Not Yet\")"
   ]
  },
  {
   "cell_type": "markdown",
   "metadata": {},
   "source": [
    "#### Creates arrays of seasons for four different leagues over several seasons"
   ]
  },
  {
   "cell_type": "code",
   "execution_count": 6,
   "metadata": {},
   "outputs": [],
   "source": [
    "# Function that, when given Matchday 12 or 3-Matchday, or something like that, will return 12 or 3\n",
    "def extractNumbers(matchdayName):\n",
    "    numString = \"\"\n",
    "    for i in matchdayName:\n",
    "        try:\n",
    "            numString += str(int(i))\n",
    "        except ValueError:\n",
    "            x = 1\n",
    "    try:\n",
    "        return int(numString)\n",
    "    except ValueError:\n",
    "        return 0\n",
    "\n",
    "\n",
    "# Function to create a new season based on a json file\n",
    "def newSeason(fileName):\n",
    "    # Open data from file\n",
    "    with open(fileName, \"r\") as read_file:\n",
    "        data = json.load(read_file)\n",
    "    # Name the new season:\n",
    "    season = Season(data['name'])\n",
    "    \n",
    "    # Iterating through all sets of games\n",
    "    for matchDay in data['rounds']:\n",
    "        # Creating a matchday object\n",
    "        if extractNumbers(matchDay['name']) == 0:\n",
    "            break\n",
    "        oneRound = Matchday(extractNumbers(matchDay['name']))\n",
    "        # Iterating through each match\n",
    "        for match in matchDay[\"matches\"]:\n",
    "            # On the first round, record the team names\n",
    "            if oneRound.number == 1:\n",
    "                season.addTeam(match['team1']['name'])\n",
    "                season.addTeam(match['team2']['name'])\n",
    "            # Attempt to create game object and add it to teamSeasons and one round\n",
    "            try:\n",
    "                game = Game(match['team1']['name'], match['team2']['name'],\n",
    "                            int(match['score1']), int(match['score2']), match['date'])\n",
    "                oneRound.addGame(game)\n",
    "                season.teams[game.homeTeam].addGame(game)\n",
    "                season.teams[game.awayTeam].addGame(game)\n",
    "            # TypeError occurs when game was cancelled and scores are null\n",
    "            except TypeError:\n",
    "                x = 1\n",
    "        # Adding a round of matches to the season\n",
    "        season.addMatchDays(oneRound)\n",
    "    # Determine final places in a season\n",
    "    season.place()\n",
    "    return season\n",
    "\n",
    "\n",
    "# Function to create a list of seasons for each country\n",
    "def makeSeasons(startYear, endYear, country):\n",
    "    seasons = []\n",
    "    for i in range(endYear - startYear):\n",
    "        seasonName = \"data/\" + str(startYear+i) + \"-\" + str(startYear+i+1)[-2:] + \"/\" + country + \".1.json\"\n",
    "        season = newSeason(seasonName)\n",
    "        seasons.append(season)\n",
    "    return seasons\n",
    "\n",
    "# Taking all possible data from the different leagues\n",
    "eng = makeSeasons(2012, 2017, \"en\")\n",
    "spn = makeSeasons(2012, 2017, \"es\")\n",
    "ity = makeSeasons(2013, 2017, \"it\")\n",
    "deu = makeSeasons(2012, 2017, \"de\")\n",
    "aus = makeSeasons(2012, 2017, \"at\")\n",
    "\n",
    "# Making a dictionary combining the data\n",
    "leagues = {\"England\": eng, \"Espana\": spn, \"Italia\": ity,\n",
    "           \"deutschland\": deu, \"Osterreich\": aus}"
   ]
  },
  {
   "cell_type": "markdown",
   "metadata": {},
   "source": [
    "#### Define functions to visualize data"
   ]
  },
  {
   "cell_type": "code",
   "execution_count": 7,
   "metadata": {},
   "outputs": [],
   "source": [
    "# Function taking in a list of seasons, outputting final place vs goals scored\n",
    "def plotScoredPlace(seasons):\n",
    "    scored = []\n",
    "    finalPlace = []\n",
    "    for season in seasons:\n",
    "        for key, team in season.teams.items():\n",
    "            scored.append(team.scored)\n",
    "            finalPlace.append(team.place)\n",
    "    plt.scatter(scored,finalPlace)\n",
    "    plt.xlabel(\"Goals Scored\")\n",
    "    plt.ylabel(\"Final Position\")\n",
    "    slope, intercept, r_value, p_value, std_err = stats.linregress(scored,finalPlace)\n",
    "    print(\"LSRL: y = \"+str(intercept)+\" + \"+str(slope)+\"x\")\n",
    "    print(\"r^2: \" + str(r_value ** 2))\n",
    "    fit_fn = np.poly1d([slope, intercept]) \n",
    "    plt.plot(scored,finalPlace, 'yo', scored, fit_fn(scored), '--k')\n",
    "    plt.title('Table 3')\n",
    "    \n",
    "\n",
    "# Function taking in a list of seasons, outputting final place vs log(goals scored)\n",
    "def plotScoredPlaceLog(seasons):\n",
    "    scored = []\n",
    "    scored1 = []\n",
    "    finalPlace = []\n",
    "    for season in seasons:\n",
    "        for key, team in season.teams.items():\n",
    "            scored.append(math.log(team.scored, math.e))\n",
    "            scored1.append(team.scored)\n",
    "            finalPlace.append(team.place)\n",
    "    scored = stats.zscore(scored)\n",
    "    plt.scatter(scored,finalPlace)\n",
    "    plt.xlabel(\"Natural Log of Goals Scored\")\n",
    "    plt.ylabel(\"Final Position\")\n",
    "    slope, intercept, r_value, p_value, std_err = stats.linregress(scored,finalPlace)\n",
    "    print(\"LSRL: y = \"+str(intercept)+\" + \"+str(slope)+\"x\")\n",
    "    print(\"r^2: \" + str(r_value ** 2))\n",
    "    fit_fn = np.poly1d([slope, intercept]) \n",
    "    plt.plot(scored,finalPlace, 'yo', scored, fit_fn(scored), '--k')\n",
    "    plt.title('Table 5')\n",
    "    return r_value**2\n",
    "\n",
    "    \n",
    "# Function taking in a list of seasons, outputting final place vs goals conceded\n",
    "def plotConcededPlace(seasons):\n",
    "    conceded = []\n",
    "    finalPlace = []\n",
    "    for season in seasons:\n",
    "        for key, team in season.teams.items():\n",
    "            conceded.append(team.conceded)\n",
    "            finalPlace.append(team.place)\n",
    "    plt.scatter(conceded,finalPlace, color=\"red\")\n",
    "    plt.xlabel(\"Goals Conceded\")\n",
    "    plt.ylabel(\"Final Position\")\n",
    "    plt.title('Table 3')\n",
    "    slope, intercept, r_value, p_value, std_err = stats.linregress(conceded,finalPlace)\n",
    "    print(\"LSRL: y = \"+str(intercept)+\" + \"+str(slope)+\"x\")\n",
    "    print(\"r^2: \" + str(r_value ** 2))\n",
    "    fit_fn = np.poly1d([slope, intercept]) \n",
    "    plt.plot(conceded,finalPlace, 'yo', conceded, fit_fn(conceded), '--k')\n",
    "    return r_value**2\n",
    "\n",
    "\n",
    "# Function taking in a list of seasons and outputting the number of goals conceded vs. the number scored\n",
    "def plotConcededScored(seasons):\n",
    "    conceded = []\n",
    "    scored = []\n",
    "    for season in seasons:\n",
    "        for key, team in season.teams.items():\n",
    "            conceded.append(math.log(team.conceded, math.e))\n",
    "            scored.append(team.scored)\n",
    "    plt.scatter(conceded,scored,color=\"blue\")\n",
    "    plt.xlabel(\"Goals Conceded\")\n",
    "    plt.ylabel(\"Goals Scored\")\n",
    "    plt.title('Table 1')\n",
    "    slope, intercept, r_value, p_value, std_err = stats.linregress(conceded,scored)\n",
    "    print(\"LSRL: y = \"+str(intercept)+\" + \"+str(slope)+\"x\")\n",
    "    print(\"r^2: \" + str(r_value ** 2))\n",
    "    fit_fn = np.poly1d([slope, intercept]) \n",
    "    plt.plot(conceded,scored, 'yo', conceded, fit_fn(conceded), '--k')\n",
    "    \n",
    "# Displays the difference between home wins and away wins\n",
    "def plotHomeWins(seasons):\n",
    "    homeWins = 0\n",
    "    awayWins = 0\n",
    "    draws = 0\n",
    "    total = 0\n",
    "    for season in seasons:\n",
    "        for matchday in season.matchDays:\n",
    "            for game in matchday.games:\n",
    "                if game.homeScore > game.awayScore:\n",
    "                    homeWins += 1\n",
    "                elif game.homeScore < game.awayScore:\n",
    "                    awayWins += 1\n",
    "                else:\n",
    "                    draws += 1\n",
    "                total += 1\n",
    "    homePercentage = homeWins / total\n",
    "    awayPercentage = awayWins / total\n",
    "    drawPercentage = draws/total\n",
    "    print(\"Home wins: \"+str(homeWins))\n",
    "    print(\"Away wins: \"+str(awayWins))\n",
    "    print(\"Draws: \"+str(draws))\n",
    "    print(\"Home win proportion: \"+str(homePercentage))\n",
    "    print(\"Away win proportion: \"+str(awayPercentage))\n",
    "    print(\"Draw proportion: \"+str(drawPercentage))\n",
    "    x = np.arange(3)\n",
    "    plt.bar(x, [homePercentage, awayPercentage, drawPercentage])\n",
    "    plt.xticks(x, ('Home Wins', 'Away Wins', 'Draws'))\n",
    "    plt.title('Table 1')\n",
    "\n",
    "def compareRs(leagues):\n",
    "    scored = []\n",
    "    conceded = []\n",
    "    dif = []\n",
    "    for key, value in leagues.items():\n",
    "        scored.append(plotScoredPlaceLog(value))\n",
    "        conceded.append(plotConcededPlace(value))\n",
    "        dif.append(plotScoredPlaceLog(value)-plotConcededPlace(value))\n",
    "    print(\"Scored: \"+str(scored))\n",
    "    print(\"Conceded: \"+str(conceded))\n",
    "    print(dif)\n",
    "#compareRs(leagues)\n",
    "    \n",
    "            "
   ]
  },
  {
   "cell_type": "markdown",
   "metadata": {},
   "source": [
    "### Display the difference between home wins and away wins:"
   ]
  },
  {
   "cell_type": "code",
   "execution_count": 19,
   "metadata": {},
   "outputs": [
    {
     "name": "stdout",
     "output_type": "stream",
     "text": [
      "Home wins: 3576\n",
      "Away wins: 2295\n",
      "Draws: 1879\n",
      "Home win proportion: 0.46141935483870966\n",
      "Away win proportion: 0.29612903225806453\n",
      "Draw proportion: 0.2424516129032258\n"
     ]
    },
    {
     "data": {
      "image/png": "[encoded data removed]",
      "text/plain": [
       "<Figure size 432x288 with 1 Axes>"
      ]
     },
     "metadata": {
      "needs_background": "light"
     },
     "output_type": "display_data"
    }
   ],
   "source": [
    "plotHomeWins(eng+spn+ity+deu+aus)"
   ]
  },
  {
   "cell_type": "markdown",
   "metadata": {},
   "source": [
    "### Plots the number of goals scored against the final league position"
   ]
  },
  {
   "cell_type": "code",
   "execution_count": 20,
   "metadata": {},
   "outputs": [
    {
     "name": "stdout",
     "output_type": "stream",
     "text": [
      "LSRL: y = 26.193536465796807 + -0.3029640244362318x\n",
      "r^2: 0.7320339766378002\n"
     ]
    },
    {
     "data": {
      "image/png": "[encoded data removed]",
      "text/plain": [
       "<Figure size 432x288 with 1 Axes>"
      ]
     },
     "metadata": {
      "needs_background": "light"
     },
     "output_type": "display_data"
    }
   ],
   "source": [
    "plotScoredPlace(eng)"
   ]
  },
  {
   "cell_type": "markdown",
   "metadata": {},
   "source": [
    "### Plots log(number of goals scored) against the final league position"
   ]
  },
  {
   "cell_type": "code",
   "execution_count": 21,
   "metadata": {},
   "outputs": [
    {
     "name": "stdout",
     "output_type": "stream",
     "text": [
      "LSRL: y = 10.499999999999993 + -5.0246432840420345x\n",
      "r^2: 0.7593094776501876\n"
     ]
    },
    {
     "data": {
      "text/plain": [
       "0.7593094776501876"
      ]
     },
     "execution_count": 21,
     "metadata": {},
     "output_type": "execute_result"
    },
    {
     "data": {
      "image/png": "[encoded data removed]",
      "text/plain": [
       "<Figure size 432x288 with 1 Axes>"
      ]
     },
     "metadata": {
      "needs_background": "light"
     },
     "output_type": "display_data"
    }
   ],
   "source": [
    "plotScoredPlaceLog(eng)"
   ]
  },
  {
   "cell_type": "markdown",
   "metadata": {},
   "source": [
    "### Plots the number of goals conceded against the final league position"
   ]
  },
  {
   "cell_type": "code",
   "execution_count": 22,
   "metadata": {},
   "outputs": [
    {
     "name": "stdout",
     "output_type": "stream",
     "text": [
      "LSRL: y = -9.56747793527681 + 0.38740304894356775x\n",
      "r^2: 0.6750716588207613\n"
     ]
    },
    {
     "data": {
      "text/plain": [
       "0.6750716588207613"
      ]
     },
     "execution_count": 22,
     "metadata": {},
     "output_type": "execute_result"
    },
    {
     "data": {
      "image/png": "[encoded data removed]",
      "text/plain": [
       "<Figure size 432x288 with 1 Axes>"
      ]
     },
     "metadata": {
      "needs_background": "light"
     },
     "output_type": "display_data"
    }
   ],
   "source": [
    "plotConcededPlace(eng)"
   ]
  },
  {
   "cell_type": "markdown",
   "metadata": {},
   "source": [
    "### Plots the number of goals conceded against the number scored"
   ]
  },
  {
   "cell_type": "code",
   "execution_count": 12,
   "metadata": {},
   "outputs": [
    {
     "name": "stdout",
     "output_type": "stream",
     "text": [
      "LSRL: y = 221.0065092477314 + -43.184327637759544x\n",
      "r^2: 0.42380734742900494\n"
     ]
    },
    {
     "data": {
      "image/png": "[encoded data removed]",
      "text/plain": [
       "<Figure size 432x288 with 1 Axes>"
      ]
     },
     "metadata": {
      "needs_background": "light"
     },
     "output_type": "display_data"
    }
   ],
   "source": [
    "plotConcededScored(eng)"
   ]
  },
  {
   "cell_type": "markdown",
   "metadata": {},
   "source": [
    "#### Statistical Tests for Home Field Advantage"
   ]
  },
  {
   "cell_type": "code",
   "execution_count": 13,
   "metadata": {},
   "outputs": [
    {
     "name": "stdout",
     "output_type": "stream",
     "text": [
      "T value: 16.674728549046293\n",
      "P-val: 1.8332546985506983e-54\n"
     ]
    }
   ],
   "source": [
    "def oneProportionZTestHomeWinsDraws(seasons):\n",
    "    prop_total = []\n",
    "    for season in seasons:\n",
    "        for matchday in season.matchDays:\n",
    "            prop_wins = 0\n",
    "            prop_losses = 0\n",
    "            day_total = 0\n",
    "            for game in matchday.games:\n",
    "                if game.homeScore > game.awayScore:\n",
    "                    prop_wins += 1\n",
    "                elif game.homeScore < game.awayScore:\n",
    "                    prop_losses += 1\n",
    "                day_total += 1\n",
    "            prop_wins = prop_wins / day_total\n",
    "            prop_losses = prop_losses / day_total\n",
    "            prop_dif = prop_wins - prop_losses\n",
    "            prop_total.append(prop_dif)\n",
    "            \n",
    "    # In case someone from Facebook is looking over this, I did make a mistake in my writeup of this project by stating that I used a z test when I here used a t test\n",
    "    t, prob = stats.ttest_1samp(prop_total, 0, axis=None)\n",
    "    print(\"T value: \"+str(t)+\"\\nP-val: \"+str(prob))\n",
    "\n",
    "\n",
    "oneProportionZTestHomeWinsDraws(eng+spn+ity+deu+aus)"
   ]
  },
  {
   "cell_type": "markdown",
   "metadata": {},
   "source": [
    "### K-Means Clustering with Final Position\n",
    "##### Here I wanted to experiment with a k-means clustering algorithm, so I used that process to split the final league table into a top and bottom group. This tturned out to be fairly interesting as some leagues such as La Liga and the German Bundesliga seem to consistently have a small group of clubs near the top, other leagues such as the Austrian Bundesliga are more evenly distributed."
   ]
  },
  {
   "cell_type": "code",
   "execution_count": 18,
   "metadata": {},
   "outputs": [
    {
     "name": "stdout",
     "output_type": "stream",
     "text": [
      "League Options: \n",
      " 1. English Premier League\n",
      " 2. La Liga\n",
      " 3. German Bundesliga\n",
      " 4. Serie A\n",
      " 5. Austrian Bundesliga\n",
      "Choose the number of a league: 4\n",
      "\n",
      "\n",
      "\n",
      "Year Options:\n",
      " 1. 2013-14\n",
      " 2. 2014-15\n",
      " 3. 2015-16\n",
      " 4. 2016-17\n",
      " \n",
      "Choose the number of a year: 4\n",
      "\n",
      "\n",
      "\n",
      "Top Group:\n",
      "Roma\n",
      "Juventus\n",
      "Fiorentina\n",
      "Atalanta\n",
      "Lazio\n",
      "Inter\n",
      "Milan\n",
      "Napoli\n",
      "\n",
      "Bottom Group:\n",
      "Empoli\n",
      "Sampdoria\n",
      "Genoa\n",
      "Cagliari\n",
      "Torino\n",
      "Palermo\n",
      "Sassuolo\n",
      "Pescara\n",
      "Udinese\n",
      "Bologna\n",
      "Chievo\n",
      "Crotone\n"
     ]
    }
   ],
   "source": [
    "def get_mean(teams):\n",
    "    mean = 0\n",
    "    for team in teams:\n",
    "        mean += team.points\n",
    "    return mean / len(teams)\n",
    "\n",
    "def k_means_clustering(season):\n",
    "    teams = []\n",
    "    for team_name, team in season.teams.items():\n",
    "        teams.append(team)\n",
    "    group1 = teams[:10]\n",
    "    group2 = teams[-10:]\n",
    "    while True:\n",
    "        changes = 0\n",
    "        average1 = get_mean(group1)\n",
    "        average2 = get_mean(group2)\n",
    "        for team in group1:\n",
    "            if abs(team.points - average2) < abs(team.points - average1):\n",
    "                changes += 1\n",
    "                group1.remove(team)\n",
    "                group2.append(team)\n",
    "        for team in group2:\n",
    "            if abs(team.points - average2) > abs(team.points - average1):\n",
    "                changes += 1\n",
    "                group2.remove(team)\n",
    "                group1.append(team)\n",
    "        if changes == 0:\n",
    "            break\n",
    "    if get_mean(group1) > get_mean(group2):\n",
    "        return group1, group2\n",
    "    else:\n",
    "        return group2, group1\n",
    "        \n",
    "def display_groups(group1, group2):\n",
    "    print(\"Top Group:\")\n",
    "    for team in group1:\n",
    "        print(team.name)\n",
    "    print(\"\\nBottom Group:\")\n",
    "    for team in group2:\n",
    "        print(team.name)\n",
    "\n",
    "while True:\n",
    "    print(\"League Options: \")\n",
    "    print(\" 1. English Premier League\\n 2. La Liga\\n 3. German Bundesliga\\n 4. Serie A\\n 5. Austrian Bundesliga\")\n",
    "    league = input(\"Choose the number of a league: \")\n",
    "    try:\n",
    "        if int(league) > 0 and int(league) < 6:\n",
    "            print(\"\\n\\n\")\n",
    "            break\n",
    "        else:\n",
    "            print(\"Invalid number.\\n\")\n",
    "    except ValueError:\n",
    "        print(\"Please type a number\\n\")\n",
    "options = [eng, spn, deu, ity, aus]\n",
    "league1 = options[int(league) - 1]\n",
    "\n",
    "while True:    \n",
    "    print(\"Year Options:\")\n",
    "    if not league == \"4\":\n",
    "        print(\" 0. 2012-13\")\n",
    "    print(\" 1. 2013-14\\n 2. 2014-15\\n 3. 2015-16\\n 4. 2016-17\\n \")\n",
    "    year = input(\"Choose the number of a year: \")\n",
    "    try:\n",
    "        if (int(year) >= 0 and int(year) < 5 and league != \"4\") or (int(year) > 0 and int(year) < 5):\n",
    "            print(\"\\n\\n\")\n",
    "            break\n",
    "        else:\n",
    "            print(\"Invalid number.\\n\")\n",
    "    except ValueError:\n",
    "        print(\"Please type a number\\n\")    \n",
    "        \n",
    "year1 = int(year)\n",
    "if league == \"4\":\n",
    "    year1 -= 1\n",
    "\n",
    "group1, group2 = k_means_clustering(league1[year1])\n",
    "display_groups(group1, group2)"
   ]
  },
  {
   "cell_type": "markdown",
   "metadata": {},
   "source": [
    "### Shows the proportion of home games won to away games won versus the difference in the two teams' final standings"
   ]
  },
  {
   "cell_type": "code",
   "execution_count": 26,
   "metadata": {},
   "outputs": [
    {
     "name": "stdout",
     "output_type": "stream",
     "text": [
      "1:  1.827433628318584\n",
      "2:  1.7057522123893805\n",
      "3:  1.7461538461538462\n",
      "4:  1.7402135231316727\n",
      "5:  1.7192642787996129\n",
      "6:  1.6669401148482361\n",
      "7:  1.6863033873343154\n",
      "8:  1.6480263157894737\n",
      "9:  1.6314511232544022\n",
      "10:  1.619750283768445\n",
      "11:  1.6055734190782422\n",
      "12:  1.60306905370844\n",
      "13:  1.587573385518591\n",
      "14:  1.5781766650921114\n",
      "15:  1.5730698529411764\n",
      "16:  1.5664869721473493\n",
      "17:  1.561201944321697\n",
      "18:  1.5579868708971552\n",
      "19:  1.5581699346405227\n"
     ]
    }
   ],
   "source": [
    "def plotHomeWinsClose(seasons, dif):\n",
    "    homeWins = 0\n",
    "    awayWins = 0\n",
    "    draws = 0\n",
    "    total = 0\n",
    "    for season in seasons:\n",
    "        for matchday in season.matchDays:\n",
    "            for game in matchday.games:\n",
    "                if abs(season.teams[game.homeTeam].place - season.teams[game.awayTeam].place) < dif+1:\n",
    "                    if game.homeScore > game.awayScore:\n",
    "                        homeWins += 1\n",
    "                    elif game.homeScore < game.awayScore:\n",
    "                        awayWins += 1\n",
    "                    else:\n",
    "                        draws += 1\n",
    "                    total += 1\n",
    "    homePercentage = homeWins / total\n",
    "    awayPercentage = awayWins / total\n",
    "    drawPercentage = draws/total\n",
    "    print(str(dif) + \":  \" + str(homePercentage/awayPercentage))\n",
    "    return(homePercentage/awayPercentage)\n",
    "\n",
    "for i in range(19):\n",
    "    plotHomeWinsClose(eng+spn+ity+deu+aus, i+1)"
   ]
  },
  {
   "cell_type": "markdown",
   "metadata": {},
   "source": [
    "### Example of Normal Distribution of Sample Means"
   ]
  },
  {
   "cell_type": "code",
   "execution_count": 29,
   "metadata": {},
   "outputs": [
    {
     "name": "stdout",
     "output_type": "stream",
     "text": [
      "SD: 0.031716357357048426\n"
     ]
    },
    {
     "data": {
      "image/png": "[encoded data removed]",
      "text/plain": [
       "<Figure size 432x288 with 1 Axes>"
      ]
     },
     "metadata": {
      "needs_background": "light"
     },
     "output_type": "display_data"
    }
   ],
   "source": [
    "def get_sample(games):\n",
    "    sample = []\n",
    "    for i in range(40):\n",
    "        sample.append(random.choice(games))\n",
    "    return sample\n",
    "\n",
    "def get_proportion(sample):\n",
    "    homeWins = 0\n",
    "    for game in sample:\n",
    "        if game.homeScore > game.awayScore:\n",
    "            homeWins += 1\n",
    "    return homeWins / 100\n",
    "\n",
    "def get_samples(seasons, n):\n",
    "    proportions = []\n",
    "    # Get list of games\n",
    "    games = []\n",
    "    for season in seasons:\n",
    "        for matchday in season.matchDays:\n",
    "            for game in matchday.games:\n",
    "                games.append(game)\n",
    "    \n",
    "    for i in range(n):\n",
    "        proportions.append(get_proportion(get_sample(games)))\n",
    "    return proportions\n",
    "    \n",
    "def plot_samples(proportions, n):\n",
    "    print(\"SD: \"+ str(np.std(proportions)))\n",
    "    plt.hist(proportions, bins=n)\n",
    "    \n",
    "    \n",
    "    \n",
    "\n",
    "plot_samples(get_samples(eng, 10000), 100)\n",
    "\n"
   ]
  },
  {
   "cell_type": "code",
   "execution_count": null,
   "metadata": {},
   "outputs": [],
   "source": []
  }
 ],
 "metadata": {
  "kernelspec": {
   "display_name": "Python 3",
   "language": "python",
   "name": "python3"
  },
  "language_info": {
   "codemirror_mode": {
    "name": "ipython",
    "version": 3
   },
   "file_extension": ".py",
   "mimetype": "text/x-python",
   "name": "python",
   "nbconvert_exporter": "python",
   "pygments_lexer": "ipython3",
   "version": "3.7.0"
  }
 },
 "nbformat": 4,
 "nbformat_minor": 2
}
