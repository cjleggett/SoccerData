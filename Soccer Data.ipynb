{
 "cells": [
  {
   "cell_type": "markdown",
   "metadata": {},
   "source": [
    "# Visualizing Soccer Data"
   ]
  },
  {
   "cell_type": "markdown",
   "metadata": {},
   "source": [
    "#### Citations:"
   ]
  },
  {
   "cell_type": "markdown",
   "metadata": {},
   "source": [
    "@Article{Hunter:2007,\n",
    "  Author    = {Hunter, J. D.},\n",
    "  Title     = {Matplotlib: A 2D graphics environment},\n",
    "  Journal   = {Computing In Science \\& Engineering},\n",
    "  Volume    = {9},\n",
    "  Number    = {3},\n",
    "  Pages     = {90--95},\n",
    "  abstract  = {Matplotlib is a 2D graphics package used for Python\n",
    "  for application development, interactive scripting, and\n",
    "  publication-quality image generation across user\n",
    "  interfaces and operating systems.},\n",
    "  publisher = {IEEE COMPUTER SOC},\n",
    "  doi       = {10.1109/MCSE.2007.55},\n",
    "  year      = 2007\n",
    "}"
   ]
  },
  {
   "cell_type": "markdown",
   "metadata": {},
   "source": [
    "#### Imports"
   ]
  },
  {
   "cell_type": "code",
   "execution_count": 1,
   "metadata": {},
   "outputs": [],
   "source": [
    "import json\n",
    "from matplotlib import pyplot as plt\n",
    "import numpy as np\n",
    "from scipy import stats\n",
    "import random\n",
    "from statsmodels.stats.proportion import proportions_ztest"
   ]
  },
  {
   "cell_type": "markdown",
   "metadata": {},
   "source": [
    "#### Defines a soccer game"
   ]
  },
  {
   "cell_type": "code",
   "execution_count": 2,
   "metadata": {},
   "outputs": [],
   "source": [
    "class Game:\n",
    "    def __init__(self, homeTeam, awayTeam, homeScore, awayScore, date):\n",
    "        self.homeTeam = homeTeam\n",
    "        self.awayTeam = awayTeam\n",
    "        self.homeScore = homeScore\n",
    "        self.awayScore = awayScore\n",
    "        self.date = date\n",
    "        \n",
    "        \n",
    "    # Displays a game in the format Liverpool 4-3 Manchester City\n",
    "    def display(self):\n",
    "        print(self.homeTeam + \" \" + str(self.homeScore) + \"-\" +\n",
    "             str(self.awayScore)+\" \"+self.awayTeam) "
   ]
  },
  {
   "cell_type": "markdown",
   "metadata": {},
   "source": [
    "#### Defines one matchweek"
   ]
  },
  {
   "cell_type": "code",
   "execution_count": 3,
   "metadata": {},
   "outputs": [],
   "source": [
    "class Matchday:\n",
    "    def __init__(self, number):\n",
    "        self.number = number\n",
    "        self.games = []\n",
    "        \n",
    "        \n",
    "    # Adds a game to the list of games\n",
    "    def addGame(self, game):\n",
    "        self.games.append(game)"
   ]
  },
  {
   "cell_type": "markdown",
   "metadata": {},
   "source": [
    "#### Defines a team's general stats over one season"
   ]
  },
  {
   "cell_type": "code",
   "execution_count": 4,
   "metadata": {},
   "outputs": [],
   "source": [
    "class TeamSeason:\n",
    "    def __init__(self, name):\n",
    "        self.name = name\n",
    "        self.points = 0\n",
    "        self.scored = 0\n",
    "        self.conceded = 0\n",
    "        self.gD = 0\n",
    "        self.place = 0\n",
    "        \n",
    "        \n",
    "    # Adds info from one game to the data on a team's season-long performance\n",
    "    def addGame(self, game):\n",
    "        isHomeTeam = game.homeTeam == self.name\n",
    "        \n",
    "        # Assigning points for a draw\n",
    "        if game.homeScore == game.awayScore:\n",
    "            self.points += 1\n",
    "            \n",
    "        # Updating variables if home team\n",
    "        if isHomeTeam:\n",
    "            if game.homeScore > game.awayScore:\n",
    "                self.points += 3\n",
    "            self.scored += game.homeScore\n",
    "            self.conceded += game.awayScore\n",
    "        \n",
    "        # Updating variables if away team\n",
    "        else:\n",
    "            if game.homeScore < game.awayScore:\n",
    "                self.points += 3\n",
    "            self.scored += game.awayScore\n",
    "            self.conceded += game.homeScore\n",
    "        self.gD = self.scored - self.conceded"
   ]
  },
  {
   "cell_type": "markdown",
   "metadata": {},
   "source": [
    "#### Defines a class for an entire season"
   ]
  },
  {
   "cell_type": "code",
   "execution_count": 5,
   "metadata": {},
   "outputs": [],
   "source": [
    "class Season:\n",
    "    def __init__(self, year):\n",
    "        self.year = year\n",
    "        # A dictionary in the form of name: TeamSeason object\n",
    "        self.teams = {}\n",
    "        self.placed = []\n",
    "        self.matchDays = []\n",
    "        \n",
    "    # adds to a list of individual weeks\n",
    "    def addMatchDays(self, matchDay):\n",
    "        self.matchDays.append(matchDay)\n",
    "        \n",
    "    # adds a team to the dictionary of teams\n",
    "    def addTeam(self, name):\n",
    "        if not name in self.teams:\n",
    "            self.teams[name] = TeamSeason(name)\n",
    "            \n",
    "    # Given two teams, it compares them using official EPL procedures\n",
    "    # Return 1 if teamA is better than team B, -1 if not\n",
    "    def compareTeams(self, teamA, teamB):\n",
    "        if teamA.points > teamB.points:\n",
    "            return 1\n",
    "        elif teamA.points == teamB.points:\n",
    "            if teamA.gD > teamB.gD:\n",
    "                return 1\n",
    "            elif teamB.gD == teamB.gD:\n",
    "                if teamA.scored > teamB.scored:\n",
    "                    return 1\n",
    "                elif teamB.scored == teamB.scored:\n",
    "                    if teamA.name > teamB.name:\n",
    "                        return 1\n",
    "                    else:\n",
    "                        return -1\n",
    "                else:\n",
    "                    return -1\n",
    "            else:\n",
    "                return -1\n",
    "        else:\n",
    "            return -1\n",
    "        \n",
    "    # Orders the teams based on comparisons\n",
    "    def place(self):\n",
    "        for team in self.teams:\n",
    "            for i in range(len(self.teams)):\n",
    "                try:\n",
    "                    if self.compareTeams(self.teams[team], self.placed[i]) > 0:\n",
    "                        self.placed.insert(i, self.teams[team])\n",
    "                        break\n",
    "                except IndexError:\n",
    "                    self.placed.append(self.teams[team])\n",
    "                    break\n",
    "        for i in range(len(self.teams)):\n",
    "            self.placed[i].place = i+1\n",
    "            \n",
    "    # Prints a simple epl table\n",
    "    def table(self):\n",
    "        for i in range(len(self.teams)):\n",
    "            try:\n",
    "                print(str(i+1) + \" \" + self.placed[i].name)\n",
    "            except IndexError:\n",
    "                print(\"Not Yet\")"
   ]
  },
  {
   "cell_type": "markdown",
   "metadata": {},
   "source": [
    "#### Creates arrays of seasons for four different leagues over several seasons"
   ]
  },
  {
   "cell_type": "code",
   "execution_count": 6,
   "metadata": {},
   "outputs": [],
   "source": [
    "# Function that, when given Matchday 12 or 3-Matchday, or something like that, will return 12 or 3\n",
    "def extractNumbers(matchdayName):\n",
    "    numString = \"\"\n",
    "    for i in matchdayName:\n",
    "        try:\n",
    "            numString += str(int(i))\n",
    "        except ValueError:\n",
    "            x = 1\n",
    "    try:\n",
    "        return int(numString)\n",
    "    except ValueError:\n",
    "        return 0\n",
    "\n",
    "\n",
    "# Function to create a new season based on a json file\n",
    "def newSeason(fileName):\n",
    "    # Open data from file\n",
    "    with open(fileName, \"r\") as read_file:\n",
    "        data = json.load(read_file)\n",
    "    # Name the new season:\n",
    "    season = Season(data['name'])\n",
    "    \n",
    "    # Iterating through all sets of games\n",
    "    for matchDay in data['rounds']:\n",
    "        # Creating a matchday object\n",
    "        if extractNumbers(matchDay['name']) == 0:\n",
    "            break\n",
    "        oneRound = Matchday(extractNumbers(matchDay['name']))\n",
    "        # Iterating through each match\n",
    "        for match in matchDay[\"matches\"]:\n",
    "            # On the first round, record the team names\n",
    "            if oneRound.number == 1:\n",
    "                season.addTeam(match['team1']['name'])\n",
    "                season.addTeam(match['team2']['name'])\n",
    "            # Attempt to create game object and add it to teamSeasons and one round\n",
    "            try:\n",
    "                game = Game(match['team1']['name'], match['team2']['name'],\n",
    "                            int(match['score1']), int(match['score2']), match['date'])\n",
    "                oneRound.addGame(game)\n",
    "                season.teams[game.homeTeam].addGame(game)\n",
    "                season.teams[game.awayTeam].addGame(game)\n",
    "            # TypeError occurs when game was cancelled and scores are null\n",
    "            except TypeError:\n",
    "                x = 1\n",
    "        # Adding a round of matches to the season\n",
    "        season.addMatchDays(oneRound)\n",
    "    # Determine final places in a season\n",
    "    season.place()\n",
    "    return season\n",
    "\n",
    "\n",
    "# Function to create a list of seasons for each country\n",
    "def makeSeasons(startYear, endYear, country):\n",
    "    seasons = []\n",
    "    for i in range(endYear - startYear):\n",
    "        seasonName = \"data/\" + str(startYear+i) + \"-\" + str(startYear+i+1)[-2:] + \"/\" + country + \".1.json\"\n",
    "        season = newSeason(seasonName)\n",
    "        seasons.append(season)\n",
    "    return seasons\n",
    "\n",
    "# Taking all possible data from the different leagues\n",
    "eng = makeSeasons(2012, 2017, \"en\")\n",
    "spn = makeSeasons(2012, 2017, \"es\")\n",
    "ity = makeSeasons(2013, 2017, \"it\")\n",
    "deu = makeSeasons(2012, 2017, \"de\")\n",
    "aus = makeSeasons(2012, 2017, \"at\")\n",
    "\n",
    "# Making a dictionary combining the data\n",
    "leagues = {\"England\": eng, \"Espana\": spn, \"Italia\": ity,\n",
    "           \"deutschland\": deu, \"Osterreich\": aus}"
   ]
  },
  {
   "cell_type": "markdown",
   "metadata": {},
   "source": [
    "#### Functions for visualizing data"
   ]
  },
  {
   "cell_type": "code",
   "execution_count": 7,
   "metadata": {},
   "outputs": [
    {
     "name": "stdout",
     "output_type": "stream",
     "text": [
      "LSRL: y = 26.193536465796807 + -0.3029640244362318x\n",
      "r^2: 0.7320339766378002\n"
     ]
    },
    {
     "data": {
      "image/png": "[encoded data removed]",
      "text/plain": [
       "<Figure size 432x288 with 1 Axes>"
      ]
     },
     "metadata": {
      "needs_background": "light"
     },
     "output_type": "display_data"
    }
   ],
   "source": [
    "# Function taking in a list of seasons, outputting final place vs goals scored\n",
    "def plotScoredPlace(seasons):\n",
    "    scored = []\n",
    "    finalPlace = []\n",
    "    for season in seasons:\n",
    "        for key, team in season.teams.items():\n",
    "            scored.append(team.scored)\n",
    "            finalPlace.append(team.place)\n",
    "    plt.scatter(scored,finalPlace)\n",
    "    plt.xlabel(\"Goals Scored\")\n",
    "    plt.ylabel(\"Final Position\")\n",
    "    slope, intercept, r_value, p_value, std_err = stats.linregress(scored,finalPlace)\n",
    "    print(\"LSRL: y = \"+str(intercept)+\" + \"+str(slope)+\"x\")\n",
    "    print(\"r^2: \" + str(r_value ** 2))\n",
    "    fit_fn = np.poly1d([slope, intercept]) \n",
    "    plt.plot(scored,finalPlace, 'yo', scored, fit_fn(scored), '--k')\n",
    "\n",
    "    \n",
    "# Function taking in a list of seasons, outputting final place vs goals conceded\n",
    "def plotConcededPlace(seasons):\n",
    "    conceded = []\n",
    "    finalPlace = []\n",
    "    for season in seasons:\n",
    "        for key, team in season.teams.items():\n",
    "            conceded.append(team.conceded)\n",
    "            finalPlace.append(team.place)\n",
    "    plt.scatter(conceded,finalPlace, color=\"red\")\n",
    "    plt.xlabel(\"Goals Conceded\")\n",
    "    plt.ylabel(\"Final Position\")\n",
    "    slope, intercept, r_value, p_value, std_err = stats.linregress(conceded,finalPlace)\n",
    "    print(\"LSRL: y = \"+str(intercept)+\" + \"+str(slope)+\"x\")\n",
    "    print(\"r^2: \" + str(r_value ** 2))\n",
    "    fit_fn = np.poly1d([slope, intercept]) \n",
    "    plt.plot(conceded,finalPlace, 'yo', conceded, fit_fn(conceded), '--k')\n",
    "\n",
    "    \n",
    "def plotConcededScored(seasons):\n",
    "    conceded = []\n",
    "    scored = []\n",
    "    for season in seasons:\n",
    "        for key, team in season.teams.items():\n",
    "            conceded.append(team.conceded)\n",
    "            scored.append(team.scored)\n",
    "    plt.scatter(conceded,scored)\n",
    "    plt.xlabel(\"Goals Conceded\")\n",
    "    plt.ylabel(\"Goals Scored\")\n",
    "    slope, intercept, r_value, p_value, std_err = stats.linregress(conceded,scored)\n",
    "    print(\"LSRL: y = \"+str(intercept)+\" + \"+str(slope)+\"x\")\n",
    "    print(\"r^2: \" + str(r_value ** 2))\n",
    "    fit_fn = np.poly1d([slope, intercept]) \n",
    "    plt.plot(conceded,scored, 'yo', conceded, fit_fn(conceded), '--k')\n",
    " \n",
    "\n",
    "def plotHomeWins(seasons):\n",
    "    homeWins = 0\n",
    "    awayWins = 0\n",
    "    total = 0\n",
    "    for season in seasons:\n",
    "        for matchday in season.matchDays:\n",
    "            for game in matchday.games:\n",
    "                # Ensuring random sampling\n",
    "                if random.randint(0, 2) == 0:\n",
    "                    x = 1\n",
    "                elif game.homeScore > game.awayScore:\n",
    "                    homeWins += 1\n",
    "                    total += 1\n",
    "                elif game.homeScore < game.awayScore:\n",
    "                    awayWins += 1\n",
    "                    total += 1\n",
    "    homePercentage = homeWins / total\n",
    "    awayPercentage = awayWins / total\n",
    "    x = np.arange(2)\n",
    "    plt.bar(x, [homePercentage, awayPercentage])\n",
    "    plt.xticks(x, ('Home Win Percentage', 'Away Win Percentage'))\n",
    "\n",
    "                \n",
    "\n",
    "plotScoredPlace(eng)\n",
    "#plotConcededPlace(eng)\n",
    "#plotConcededScored(eng)\n",
    "\n",
    "    \n",
    "            "
   ]
  },
  {
   "cell_type": "markdown",
   "metadata": {},
   "source": [
    "#### Statistical Tests"
   ]
  },
  {
   "cell_type": "code",
   "execution_count": 9,
   "metadata": {},
   "outputs": [
    {
     "name": "stdout",
     "output_type": "stream",
     "text": [
      "4\n"
     ]
    },
    {
     "data": {
      "image/png": "[encoded data removed]",
      "text/plain": [
       "<Figure size 432x288 with 1 Axes>"
      ]
     },
     "metadata": {
      "needs_background": "light"
     },
     "output_type": "display_data"
    }
   ],
   "source": [
    "def oneProportionZTestHomeWins(seasons):\n",
    "    homeWins = 0\n",
    "    awayWins = 0\n",
    "    total = 0\n",
    "    matchTotal = 0\n",
    "    for season in seasons:\n",
    "        for matchday in season.matchDays:\n",
    "            for game in matchday.games:\n",
    "                # Ensuring random sampling\n",
    "                if not random.randint(0, 11) == 0:\n",
    "                    x = 1\n",
    "                    matchTotal += 1\n",
    "                elif game.homeScore > game.awayScore:\n",
    "                    homeWins += 1\n",
    "                    total += 1\n",
    "                    matchTotal += 1\n",
    "                elif game.homeScore < game.awayScore:\n",
    "                    awayWins += 1\n",
    "                    total += 1\n",
    "                    matchTotal += 1\n",
    "    homePercentage = homeWins / total\n",
    "    awayPercentage = awayWins / total\n",
    "    \n",
    "    if homePercentage * total < 10 or awayPercentage * total < 10 or total < 30 or total / matchTotal > .1:\n",
    "        print(\"Conditions not met\")\n",
    "        return 1\n",
    "    stat, pval = proportions_ztest(homeWins, total, .5, \"larger\")\n",
    "    #print(\"P-value: \"+ str(pval))\n",
    "    return pval\n",
    "\n",
    "errors = 0\n",
    "for i in range(1000):\n",
    "    pval = oneProportionZTestHomeWins(eng+spn+ity+deu+aus)\n",
    "    if pval > .01:\n",
    "        errors += 1\n",
    "print(errors)\n",
    "plotHomeWins(eng)"
   ]
  },
  {
   "cell_type": "code",
   "execution_count": null,
   "metadata": {},
   "outputs": [],
   "source": []
  }
 ],
 "metadata": {
  "kernelspec": {
   "display_name": "Python 3",
   "language": "python",
   "name": "python3"
  },
  "language_info": {
   "codemirror_mode": {
    "name": "ipython",
    "version": 3
   },
   "file_extension": ".py",
   "mimetype": "text/x-python",
   "name": "python",
   "nbconvert_exporter": "python",
   "pygments_lexer": "ipython3",
   "version": "3.7.0"
  }
 },
 "nbformat": 4,
 "nbformat_minor": 2
}
